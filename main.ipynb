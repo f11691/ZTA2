{
 "cells": [
  {
   "cell_type": "code",
   "execution_count": null,
   "id": "625475ac-ca89-458e-9f76-4d42c4bb88f4",
   "metadata": {
    "editable": true,
    "slideshow": {
     "slide_type": ""
    },
    "tags": []
   },
   "outputs": [],
   "source": [
    "# main.py\n",
    "\n",
    "if __name__ == \"__main__\":\n",
    "    # Initialize components\n",
    "    pa = PolicyAdministration()\n",
    "    fsm = FSM()\n",
    "    pe = PolicyEngine(fsm=fsm, risk_assessment=None, pa=pa)\n",
    "    pa.set_pe(pe)\n",
    "    authenticator = Authenticator(csv_file='entity_authentication.csv', pa=pa)\n",
    "    pep = PEP(pe=pe, authenticator=authenticator, pa=pa)\n",
    "    risk_assessment = RiskAssessment(pe=pe)\n",
    "    pe.risk_assessment = risk_assessment\n",
    "\n",
    "    # Register PEP with PA\n",
    "    pa.register_pep(pep)\n",
    "\n",
    "    # Simulate access requests\n",
    "    entity_id = 'user'\n",
    "    resource_id = 'iot_device1_data'\n",
    "    request = {\n",
    "        'username': 'valid_user',\n",
    "        'password': 'valid_password',\n",
    "        'ip_address': '192.168.1.100'\n",
    "    }\n",
    "\n",
    "    pep.handle_request(entity_id, resource_id, request)"
   ]
  }
 ],
 "metadata": {
  "kernelspec": {
   "display_name": "AnomalyTest",
   "language": "python",
   "name": "anomalytest"
  },
  "language_info": {
   "codemirror_mode": {
    "name": "ipython",
    "version": 3
   },
   "file_extension": ".py",
   "mimetype": "text/x-python",
   "name": "python",
   "nbconvert_exporter": "python",
   "pygments_lexer": "ipython3",
   "version": "3.9.18"
  }
 },
 "nbformat": 4,
 "nbformat_minor": 5
}
