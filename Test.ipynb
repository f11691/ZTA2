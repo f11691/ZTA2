{
 "cells": [
  {
   "cell_type": "code",
   "execution_count": null,
   "id": "6303ef39-1048-4b74-b5b6-44d7c0ef22c0",
   "metadata": {},
   "outputs": [],
   "source": [
    "eval(condition, {}, local_vars)"
   ]
  }
 ],
 "metadata": {
  "kernelspec": {
   "display_name": "AnomalyTest",
   "language": "python",
   "name": "anomalytest"
  },
  "language_info": {
   "codemirror_mode": {
    "name": "ipython",
    "version": 3
   },
   "file_extension": ".py",
   "mimetype": "text/x-python",
   "name": "python",
   "nbconvert_exporter": "python",
   "pygments_lexer": "ipython3",
   "version": "3.9.18"
  }
 },
 "nbformat": 4,
 "nbformat_minor": 5
}
